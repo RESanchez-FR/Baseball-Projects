{
 "cells": [
  {
   "cell_type": "code",
   "execution_count": null,
   "metadata": {},
   "outputs": [],
   "source": [
    "###Running the Pitvher Class\n",
    "\n",
    "from Pitch_Decep_Class import Pitching_Deception_Calc"
   ]
  },
  {
   "cell_type": "code",
   "execution_count": 2,
   "metadata": {},
   "outputs": [
    {
     "name": "stdout",
     "output_type": "stream",
     "text": [
      "Gathering player lookup table. This may take a moment.\n",
      "Gathering Player Data\n",
      "Data saved to CSV_Files/Skenes_Paul_2024.csv\n",
      "Processing Skenes_Paul...\n"
     ]
    },
    {
     "name": "stderr",
     "output_type": "stream",
     "text": [
      "/Users/ramonsanchez/Desktop/Career/Coding/Sports Projects/HR-predict-repo/Pitching_Deception/Pitching_Deception.py:144: UserWarning: Tight layout not applied. The bottom and top margins cannot be made large enough to accommodate all axes decorations.\n",
      "  plt.tight_layout()\n"
     ]
    },
    {
     "name": "stdout",
     "output_type": "stream",
     "text": [
      "SMR Score for Skenes_Paul: 236.27\n",
      "PMD Score for Skenes_Paul: 61.64\n"
     ]
    },
    {
     "name": "stderr",
     "output_type": "stream",
     "text": [
      "/Users/ramonsanchez/Desktop/Career/Coding/Sports Projects/HR-predict-repo/Pitching_Deception/Pitching_Deception.py:515: FutureWarning: \n",
      "\n",
      "The `ci` parameter is deprecated. Use `errorbar=None` for the same effect.\n",
      "\n",
      "  bar_plot = sns.barplot(x=consistency_metrics.index,\n",
      "/Users/ramonsanchez/Desktop/Career/Coding/Sports Projects/HR-predict-repo/Pitching_Deception/Pitching_Deception.py:515: FutureWarning: \n",
      "\n",
      "Passing `palette` without assigning `hue` is deprecated and will be removed in v0.14.0. Assign the `x` variable to `hue` and set `legend=False` for the same effect.\n",
      "\n",
      "  bar_plot = sns.barplot(x=consistency_metrics.index,\n"
     ]
    },
    {
     "name": "stdout",
     "output_type": "stream",
     "text": [
      "RPD Score for Skenes_Paul: 48.87\n"
     ]
    },
    {
     "name": "stderr",
     "output_type": "stream",
     "text": [
      "/Users/ramonsanchez/Desktop/Career/Coding/Sports Projects/HR-predict-repo/Pitching_Deception/Pitching_Deception.py:288: SettingWithCopyWarning: \n",
      "A value is trying to be set on a copy of a slice from a DataFrame.\n",
      "Try using .loc[row_indexer,col_indexer] = value instead\n",
      "\n",
      "See the caveats in the documentation: https://pandas.pydata.org/pandas-docs/stable/user_guide/indexing.html#returning-a-view-versus-a-copy\n",
      "  pitcher_data['is_flyout'] = flyout_condition\n"
     ]
    },
    {
     "name": "stdout",
     "output_type": "stream",
     "text": [
      "Fly out percentage: 59.02%\n",
      "Weak Contact Rate (WCR) Score for Skenes_Paul: 3.93%\n",
      "\n",
      "Pitch Type Analysis:\n",
      "  Pitch Type  Avg Launch Angle  Avg Exit Velocity  Fly Out %    CI_low  \\\n",
      "0         CH         10.071429          76.392857  71.428571  0.500000   \n",
      "1         CU         17.000000          84.170370  55.555556  0.370370   \n",
      "2         FF         13.522124          91.003540  54.867257  0.451327   \n",
      "3         SI         -5.137615          87.516514  60.550459  0.513761   \n",
      "4         SL         17.933333          78.393333  53.333333  0.266667   \n",
      "5         ST         23.666667          87.370370  70.370370  0.518519   \n",
      "\n",
      "    CI_high  \n",
      "0  0.928571  \n",
      "1  0.740741  \n",
      "2  0.637168  \n",
      "3  0.697248  \n",
      "4  0.800000  \n",
      "5  0.888889  \n",
      "\n",
      "Fly Out Percentages with 95% Confidence Intervals:\n",
      "CH: 71.43% (95% CI: 0.50% - 0.93%)\n",
      "CU: 55.56% (95% CI: 0.37% - 0.74%)\n",
      "FF: 54.87% (95% CI: 0.45% - 0.64%)\n",
      "SI: 60.55% (95% CI: 0.51% - 0.70%)\n",
      "SL: 53.33% (95% CI: 0.27% - 0.80%)\n",
      "ST: 70.37% (95% CI: 0.52% - 0.89%)\n",
      "Analysis complete for Skenes_Paul\n",
      "--------------------------------------------------\n"
     ]
    }
   ],
   "source": [
    "if __name__ == \"__main__\":\n",
    "    analyzer = Pitching_Deception_Calc()\n",
    "    \n",
    "    # Example usage:\n",
    "    player_name_list = ['Skenes Paul']\n",
    "    start_date = '2024-03-28'\n",
    "    end_date = '2024-10-06'\n",
    "    \n",
    "    analyzer.retrieve_and_save_data(player_name_list, start_date, end_date)\n",
    "    analyzer.run_analysis()"
   ]
  }
 ],
 "metadata": {
  "kernelspec": {
   "display_name": "Python 3",
   "language": "python",
   "name": "python3"
  },
  "language_info": {
   "codemirror_mode": {
    "name": "ipython",
    "version": 3
   },
   "file_extension": ".py",
   "mimetype": "text/x-python",
   "name": "python",
   "nbconvert_exporter": "python",
   "pygments_lexer": "ipython3",
   "version": "3.10.4"
  }
 },
 "nbformat": 4,
 "nbformat_minor": 2
}
